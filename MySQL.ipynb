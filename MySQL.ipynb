{
 "cells": [
  {
   "cell_type": "markdown",
   "metadata": {},
   "source": [
    "# классический SQL запрос"
   ]
  },
  {
   "cell_type": "markdown",
   "metadata": {},
   "source": [
    "Посчитаем среднюю корректность ответов для content_id\n",
    "\n",
    "\n",
    "датасет \"Kaggle Riiid Answers Correctness Prediction\"\n",
    "* row_id: (int64) идентификатор записи\n",
    "* timestamp: (int64) время от начала взаимодействия пользователя до завершения задания\n",
    "* user_id: (int32) идентификатор пользователя\n",
    "* content_id: (int16) идентификатор типа взаимодействия\n",
    "* content_type_id: (int8) 0 - вопрос, 1 - просмотр лекции\n",
    "* task_container_id: (int16) ID набора вопросов\n",
    "* user_answer: (int8) ответ пользователя. -1 для лекция\n",
    "* answered_correctly: (int8) маркер правильного овтета. -1 для лекций\n",
    "* prior_question_elapsed_time: (float32) время, затраченное пользователей на ответ \n",
    "после прослушивания лекции\n",
    "* prior_question_had_explanation: (bool) пользователю показали правильный ответ, \n",
    "после ответа на вопросы"
   ]
  },
  {
   "cell_type": "markdown",
   "metadata": {},
   "source": [
    "Данильченко Вадим"
   ]
  },
  {
   "cell_type": "code",
   "execution_count": 21,
   "metadata": {},
   "outputs": [
    {
     "name": "stdout",
     "output_type": "stream",
     "text": [
      "env: MYSQL_PASSWD=fET_-j-6i!t6fQ8GbuJ\n"
     ]
    }
   ],
   "source": [
    "%env MYSQL_PASSWD=fET_-j-6i!t6fQ8GbuJ"
   ]
  },
  {
   "cell_type": "code",
   "execution_count": 22,
   "metadata": {},
   "outputs": [
    {
     "name": "stdout",
     "output_type": "stream",
     "text": [
      "Overwriting mysql_query.sql\n"
     ]
    }
   ],
   "source": [
    "%%file mysql_query.sql\n",
    "\n",
    "SELECT content_id, AVG(answered_correctly) AS avg_correctly\n",
    "FROM answers_small\n",
    "WHERE answered_correctly<>-1\n",
    "GROUP BY content_id\n",
    "ORDER BY avg_correctly \n",
    "LIMIT 20;"
   ]
  },
  {
   "cell_type": "code",
   "execution_count": 23,
   "metadata": {},
   "outputs": [
    {
     "name": "stdout",
     "output_type": "stream",
     "text": [
      "mysql: [Warning] Using a password on the command line interface can be insecure.\n",
      "content_id\tavg_correctly\n",
      "7848\t0.0000\n",
      "7849\t0.0000\n",
      "3095\t0.0571\n",
      "10062\t0.0872\n",
      "13038\t0.0909\n",
      "7639\t0.1102\n",
      "10924\t0.1315\n",
      "3125\t0.1319\n",
      "7374\t0.1429\n",
      "9220\t0.1538\n",
      "10095\t0.1538\n",
      "7487\t0.1563\n",
      "13481\t0.1591\n",
      "8697\t0.1625\n",
      "10239\t0.1628\n",
      "13341\t0.1630\n",
      "2063\t0.1639\n",
      "10901\t0.1649\n",
      "6531\t0.1649\n",
      "10061\t0.1651\n"
     ]
    }
   ],
   "source": [
    "!mysql --host=rc1c-pk90zcmlw4s07t9s.mdb.yandexcloud.net \\\n",
    "       --port=3306 \\\n",
    "       --ssl-ca=~/data/root.crt \\\n",
    "       --ssl-mode=VERIFY_IDENTITY \\\n",
    "       --user=otus \\\n",
    "       --password=\"$MYSQL_PASSWD\" \\\n",
    "       --local-infile=1 otus < mysql_query.sql"
   ]
  }
 ],
 "metadata": {
  "kernelspec": {
   "display_name": "Python 3",
   "language": "python",
   "name": "python3"
  },
  "language_info": {
   "codemirror_mode": {
    "name": "ipython",
    "version": 3
   },
   "file_extension": ".py",
   "mimetype": "text/x-python",
   "name": "python",
   "nbconvert_exporter": "python",
   "pygments_lexer": "ipython3",
   "version": "3.7.4"
  }
 },
 "nbformat": 4,
 "nbformat_minor": 2
}
