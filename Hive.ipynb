{
 "cells": [
  {
   "cell_type": "markdown",
   "metadata": {},
   "source": [
    "# SQL запрос через Hive"
   ]
  },
  {
   "cell_type": "markdown",
   "metadata": {},
   "source": [
    "Посчитаем среднюю корректность ответов для content_id\n",
    "\n",
    "\n",
    "датасет \"Kaggle Riiid Answers Correctness Prediction\"\n",
    "* row_id: (int64) идентификатор записи\n",
    "* timestamp: (int64) время от начала взаимодействия пользователя до завершения задания\n",
    "* user_id: (int32) идентификатор пользователя\n",
    "* content_id: (int16) идентификатор типа взаимодействия\n",
    "* content_type_id: (int8) 0 - вопрос, 1 - просмотр лекции\n",
    "* task_container_id: (int16) ID набора вопросов\n",
    "* user_answer: (int8) ответ пользователя. -1 для лекция\n",
    "* answered_correctly: (int8) маркер правильного овтета. -1 для лекций\n",
    "* prior_question_elapsed_time: (float32) время, затраченное пользователей на ответ \n",
    "после прослушивания лекции\n",
    "* prior_question_had_explanation: (bool) пользователю показали правильный ответ, \n",
    "после ответа на вопросы"
   ]
  },
  {
   "cell_type": "markdown",
   "metadata": {},
   "source": [
    "Данильченко Вадим"
   ]
  },
  {
   "cell_type": "code",
   "execution_count": 1,
   "metadata": {},
   "outputs": [
    {
     "name": "stdout",
     "output_type": "stream",
     "text": [
      "Overwriting query.sql\n"
     ]
    }
   ],
   "source": [
    "%%file query.sql\n",
    "SELECT content_id, avg(answered_correctly) as avg_answered_correctly\n",
    "FROM answers\n",
    "WHERE answered_correctly<>-1\n",
    "GROUP BY content_id\n",
    "ORDER BY avg_answered_correctly\n",
    "LIMIT 20;"
   ]
  },
  {
   "cell_type": "code",
   "execution_count": 2,
   "metadata": {
    "scrolled": false
   },
   "outputs": [
    {
     "name": "stdout",
     "output_type": "stream",
     "text": [
      "\n",
      "Logging initialized using configuration in jar:file:/usr/local/apache-hive-2.3.6-bin/lib/hive-common-2.3.6.jar!/hive-log4j2.properties Async: true\n",
      "WARNING: Hive-on-MR is deprecated in Hive 2 and may not be available in the future versions. Consider using a different execution engine (i.e. spark, tez) or using Hive 1.X releases.\n",
      "Query ID = jovyan_20210810181702_2b7bead3-1713-4808-b460-aefdebf4a447\n",
      "Total jobs = 2\n",
      "Launching Job 1 out of 2\n",
      "Number of reduce tasks not specified. Estimated from input data size: 3\n",
      "In order to change the average load for a reducer (in bytes):\n",
      "  set hive.exec.reducers.bytes.per.reducer=<number>\n",
      "In order to limit the maximum number of reducers:\n",
      "  set hive.exec.reducers.max=<number>\n",
      "In order to set a constant number of reducers:\n",
      "  set mapreduce.job.reduces=<number>\n",
      "Starting Job = job_1628598864856_0015, Tracking URL = http://172.17.0.2:8088/proxy/application_1628598864856_0015/\n",
      "Kill Command = /usr/local/hadoop/bin/hadoop job  -kill job_1628598864856_0015\n",
      "Hadoop job information for Stage-1: number of mappers: 3; number of reducers: 3\n",
      "2021-08-10 18:17:12,817 Stage-1 map = 0%,  reduce = 0%\n",
      "2021-08-10 18:17:19,031 Stage-1 map = 33%,  reduce = 0%, Cumulative CPU 5.67 sec\n",
      "2021-08-10 18:17:23,136 Stage-1 map = 67%,  reduce = 0%, Cumulative CPU 16.21 sec\n",
      "2021-08-10 18:17:24,195 Stage-1 map = 100%,  reduce = 0%, Cumulative CPU 27.12 sec\n",
      "2021-08-10 18:17:25,229 Stage-1 map = 100%,  reduce = 33%, Cumulative CPU 30.35 sec\n",
      "2021-08-10 18:17:26,264 Stage-1 map = 100%,  reduce = 67%, Cumulative CPU 33.76 sec\n",
      "2021-08-10 18:17:27,286 Stage-1 map = 100%,  reduce = 100%, Cumulative CPU 36.88 sec\n",
      "MapReduce Total cumulative CPU time: 36 seconds 880 msec\n",
      "Ended Job = job_1628598864856_0015\n",
      "Launching Job 2 out of 2\n",
      "Number of reduce tasks determined at compile time: 1\n",
      "In order to change the average load for a reducer (in bytes):\n",
      "  set hive.exec.reducers.bytes.per.reducer=<number>\n",
      "In order to limit the maximum number of reducers:\n",
      "  set hive.exec.reducers.max=<number>\n",
      "In order to set a constant number of reducers:\n",
      "  set mapreduce.job.reduces=<number>\n",
      "Starting Job = job_1628598864856_0017, Tracking URL = http://172.17.0.2:8088/proxy/application_1628598864856_0017/\n",
      "Kill Command = /usr/local/hadoop/bin/hadoop job  -kill job_1628598864856_0017\n",
      "Hadoop job information for Stage-2: number of mappers: 1; number of reducers: 1\n",
      "2021-08-10 18:17:35,238 Stage-2 map = 0%,  reduce = 0%\n",
      "2021-08-10 18:17:40,386 Stage-2 map = 100%,  reduce = 0%, Cumulative CPU 3.74 sec\n",
      "2021-08-10 18:17:46,520 Stage-2 map = 100%,  reduce = 100%, Cumulative CPU 5.54 sec\n",
      "MapReduce Total cumulative CPU time: 5 seconds 540 msec\n",
      "Ended Job = job_1628598864856_0017\n",
      "MapReduce Jobs Launched: \n",
      "Stage-Stage-1: Map: 3  Reduce: 3   Cumulative CPU: 36.88 sec   HDFS Read: 557141616 HDFS Write: 381624 SUCCESS\n",
      "Stage-Stage-2: Map: 1  Reduce: 1   Cumulative CPU: 5.54 sec   HDFS Read: 387854 HDFS Write: 788 SUCCESS\n",
      "Total MapReduce CPU Time Spent: 42 seconds 420 msec\n",
      "OK\n",
      "7848\t0.0\n",
      "7849\t0.0\n",
      "3095\t0.05714285714285714\n",
      "10062\t0.087248322147651\n",
      "13038\t0.09090909090909091\n",
      "7639\t0.11022727272727273\n",
      "10924\t0.13150684931506848\n",
      "3125\t0.13188976377952755\n",
      "7374\t0.14285714285714285\n",
      "9220\t0.15378356387306755\n",
      "10095\t0.15384615384615385\n",
      "7487\t0.15625\n",
      "13481\t0.1590909090909091\n",
      "8697\t0.16252390057361377\n",
      "10239\t0.1628242074927954\n",
      "13341\t0.16304347826086957\n",
      "2063\t0.16394565589679186\n",
      "6531\t0.16486902927580893\n",
      "10901\t0.16494845360824742\n",
      "10061\t0.16506410256410256\n",
      "Time taken: 45.277 seconds, Fetched: 20 row(s)\n"
     ]
    }
   ],
   "source": [
    "!hive -f query.sql"
   ]
  }
 ],
 "metadata": {
  "kernelspec": {
   "display_name": "Python 3",
   "language": "python",
   "name": "python3"
  },
  "language_info": {
   "codemirror_mode": {
    "name": "ipython",
    "version": 3
   },
   "file_extension": ".py",
   "mimetype": "text/x-python",
   "name": "python",
   "nbconvert_exporter": "python",
   "pygments_lexer": "ipython3",
   "version": "3.7.4"
  }
 },
 "nbformat": 4,
 "nbformat_minor": 2
}
