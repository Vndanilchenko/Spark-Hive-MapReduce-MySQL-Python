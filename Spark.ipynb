{
 "cells": [
  {
   "cell_type": "markdown",
   "metadata": {},
   "source": [
    "# работа со Spark из Python"
   ]
  },
  {
   "cell_type": "markdown",
   "metadata": {},
   "source": [
    "Посчитаем среднюю корректность ответов для content_id\n",
    "\n",
    "\n",
    "датасет \"Kaggle Riiid Answers Correctness Prediction\"\n",
    "* row_id: (int64) идентификатор записи\n",
    "* timestamp: (int64) время от начала взаимодействия пользователя до завершения задания\n",
    "* user_id: (int32) идентификатор пользователя\n",
    "* content_id: (int16) идентификатор типа взаимодействия\n",
    "* content_type_id: (int8) 0 - вопрос, 1 - просмотр лекции\n",
    "* task_container_id: (int16) ID набора вопросов\n",
    "* user_answer: (int8) ответ пользователя. -1 для лекция\n",
    "* answered_correctly: (int8) маркер правильного овтета. -1 для лекций\n",
    "* prior_question_elapsed_time: (float32) время, затраченное пользователей на ответ \n",
    "после прослушивания лекции\n",
    "* prior_question_had_explanation: (bool) пользователю показали правильный ответ, \n",
    "после ответа на вопросы"
   ]
  },
  {
   "cell_type": "markdown",
   "metadata": {},
   "source": [
    "Данильченко Вадим"
   ]
  },
  {
   "cell_type": "code",
   "execution_count": 12,
   "metadata": {},
   "outputs": [],
   "source": [
    "import pyspark\n",
    "\n",
    "conf = (\n",
    "    pyspark.SparkConf().setAppName(\"Test\")\n",
    "        .set(\"spark.executor.instances\", \"1\")\n",
    "        .set(\"spark.executor.cores\", \"1\")\n",
    "        .set(\"spark.submit.deployMode\",\"client\")\n",
    "        .set(\"spark.executor.memory\", \"1024Mb\")\n",
    ")\n",
    "sc = pyspark.SparkContext(conf=conf)\n",
    "spark = pyspark.sql.SparkSession(sc)"
   ]
  },
  {
   "cell_type": "code",
   "execution_count": 13,
   "metadata": {},
   "outputs": [],
   "source": [
    "riiid_df = spark.read.csv(\"hdfs:///user/vdanilchenko/train_10m.csv\", inferSchema=True, header=True)"
   ]
  },
  {
   "cell_type": "code",
   "execution_count": 14,
   "metadata": {},
   "outputs": [
    {
     "name": "stdout",
     "output_type": "stream",
     "text": [
      "root\n",
      " |-- row_id: integer (nullable = true)\n",
      " |-- timestamp: long (nullable = true)\n",
      " |-- user_id: integer (nullable = true)\n",
      " |-- content_id: integer (nullable = true)\n",
      " |-- content_type_id: integer (nullable = true)\n",
      " |-- task_container_id: integer (nullable = true)\n",
      " |-- user_answer: integer (nullable = true)\n",
      " |-- answered_correctly: integer (nullable = true)\n",
      " |-- prior_question_elapsed_time: double (nullable = true)\n",
      " |-- prior_question_had_explanation: boolean (nullable = true)\n",
      "\n"
     ]
    }
   ],
   "source": [
    "riiid_df.printSchema()"
   ]
  },
  {
   "cell_type": "code",
   "execution_count": 15,
   "metadata": {},
   "outputs": [
    {
     "data": {
      "text/html": [
       "<table border='1'>\n",
       "<tr><th>row_id</th><th>timestamp</th><th>user_id</th><th>content_id</th><th>content_type_id</th><th>task_container_id</th><th>user_answer</th><th>answered_correctly</th><th>prior_question_elapsed_time</th><th>prior_question_had_explanation</th></tr>\n",
       "<tr><td>0</td><td>0</td><td>115</td><td>5692</td><td>0</td><td>1</td><td>3</td><td>1</td><td>null</td><td>null</td></tr>\n",
       "<tr><td>1</td><td>56943</td><td>115</td><td>5716</td><td>0</td><td>2</td><td>2</td><td>1</td><td>37000.0</td><td>false</td></tr>\n",
       "<tr><td>2</td><td>118363</td><td>115</td><td>128</td><td>0</td><td>0</td><td>0</td><td>1</td><td>55000.0</td><td>false</td></tr>\n",
       "<tr><td>3</td><td>131167</td><td>115</td><td>7860</td><td>0</td><td>3</td><td>0</td><td>1</td><td>19000.0</td><td>false</td></tr>\n",
       "<tr><td>4</td><td>137965</td><td>115</td><td>7922</td><td>0</td><td>4</td><td>1</td><td>1</td><td>11000.0</td><td>false</td></tr>\n",
       "<tr><td>5</td><td>157063</td><td>115</td><td>156</td><td>0</td><td>5</td><td>2</td><td>1</td><td>5000.0</td><td>false</td></tr>\n",
       "<tr><td>6</td><td>176092</td><td>115</td><td>51</td><td>0</td><td>6</td><td>0</td><td>1</td><td>17000.0</td><td>false</td></tr>\n",
       "<tr><td>7</td><td>194190</td><td>115</td><td>50</td><td>0</td><td>7</td><td>3</td><td>1</td><td>17000.0</td><td>false</td></tr>\n",
       "<tr><td>8</td><td>212463</td><td>115</td><td>7896</td><td>0</td><td>8</td><td>2</td><td>1</td><td>16000.0</td><td>false</td></tr>\n",
       "<tr><td>9</td><td>230983</td><td>115</td><td>7863</td><td>0</td><td>9</td><td>0</td><td>1</td><td>16000.0</td><td>false</td></tr>\n",
       "<tr><td>10</td><td>255381</td><td>115</td><td>152</td><td>0</td><td>10</td><td>2</td><td>0</td><td>17000.0</td><td>false</td></tr>\n",
       "<tr><td>11</td><td>280033</td><td>115</td><td>104</td><td>0</td><td>11</td><td>1</td><td>0</td><td>22000.0</td><td>false</td></tr>\n",
       "<tr><td>12</td><td>302994</td><td>115</td><td>108</td><td>0</td><td>12</td><td>1</td><td>0</td><td>23000.0</td><td>false</td></tr>\n",
       "<tr><td>13</td><td>328686</td><td>115</td><td>7900</td><td>0</td><td>13</td><td>0</td><td>1</td><td>21000.0</td><td>false</td></tr>\n",
       "<tr><td>14</td><td>352686</td><td>115</td><td>7901</td><td>0</td><td>14</td><td>1</td><td>1</td><td>24000.0</td><td>false</td></tr>\n",
       "<tr><td>15</td><td>376162</td><td>115</td><td>7971</td><td>0</td><td>15</td><td>2</td><td>1</td><td>22000.0</td><td>false</td></tr>\n",
       "<tr><td>16</td><td>398020</td><td>115</td><td>25</td><td>0</td><td>16</td><td>1</td><td>1</td><td>21000.0</td><td>false</td></tr>\n",
       "<tr><td>17</td><td>418008</td><td>115</td><td>183</td><td>0</td><td>17</td><td>0</td><td>0</td><td>20000.0</td><td>false</td></tr>\n",
       "<tr><td>18</td><td>437272</td><td>115</td><td>7926</td><td>0</td><td>18</td><td>1</td><td>1</td><td>18000.0</td><td>false</td></tr>\n",
       "<tr><td>19</td><td>468511</td><td>115</td><td>7927</td><td>0</td><td>19</td><td>3</td><td>1</td><td>17000.0</td><td>false</td></tr>\n",
       "</table>\n",
       "only showing top 20 rows\n"
      ],
      "text/plain": [
       "+------+---------+-------+----------+---------------+-----------------+-----------+------------------+---------------------------+------------------------------+\n",
       "|row_id|timestamp|user_id|content_id|content_type_id|task_container_id|user_answer|answered_correctly|prior_question_elapsed_time|prior_question_had_explanation|\n",
       "+------+---------+-------+----------+---------------+-----------------+-----------+------------------+---------------------------+------------------------------+\n",
       "|     0|        0|    115|      5692|              0|                1|          3|                 1|                       null|                          null|\n",
       "|     1|    56943|    115|      5716|              0|                2|          2|                 1|                    37000.0|                         false|\n",
       "|     2|   118363|    115|       128|              0|                0|          0|                 1|                    55000.0|                         false|\n",
       "|     3|   131167|    115|      7860|              0|                3|          0|                 1|                    19000.0|                         false|\n",
       "|     4|   137965|    115|      7922|              0|                4|          1|                 1|                    11000.0|                         false|\n",
       "|     5|   157063|    115|       156|              0|                5|          2|                 1|                     5000.0|                         false|\n",
       "|     6|   176092|    115|        51|              0|                6|          0|                 1|                    17000.0|                         false|\n",
       "|     7|   194190|    115|        50|              0|                7|          3|                 1|                    17000.0|                         false|\n",
       "|     8|   212463|    115|      7896|              0|                8|          2|                 1|                    16000.0|                         false|\n",
       "|     9|   230983|    115|      7863|              0|                9|          0|                 1|                    16000.0|                         false|\n",
       "|    10|   255381|    115|       152|              0|               10|          2|                 0|                    17000.0|                         false|\n",
       "|    11|   280033|    115|       104|              0|               11|          1|                 0|                    22000.0|                         false|\n",
       "|    12|   302994|    115|       108|              0|               12|          1|                 0|                    23000.0|                         false|\n",
       "|    13|   328686|    115|      7900|              0|               13|          0|                 1|                    21000.0|                         false|\n",
       "|    14|   352686|    115|      7901|              0|               14|          1|                 1|                    24000.0|                         false|\n",
       "|    15|   376162|    115|      7971|              0|               15|          2|                 1|                    22000.0|                         false|\n",
       "|    16|   398020|    115|        25|              0|               16|          1|                 1|                    21000.0|                         false|\n",
       "|    17|   418008|    115|       183|              0|               17|          0|                 0|                    20000.0|                         false|\n",
       "|    18|   437272|    115|      7926|              0|               18|          1|                 1|                    18000.0|                         false|\n",
       "|    19|   468511|    115|      7927|              0|               19|          3|                 1|                    17000.0|                         false|\n",
       "+------+---------+-------+----------+---------------+-----------------+-----------+------------------+---------------------------+------------------------------+\n",
       "only showing top 20 rows"
      ]
     },
     "execution_count": 15,
     "metadata": {},
     "output_type": "execute_result"
    }
   ],
   "source": [
    "spark.conf.set('spark.sql.repl.eagerEval.enabled', True)\n",
    "riiid_df"
   ]
  },
  {
   "cell_type": "code",
   "execution_count": 19,
   "metadata": {},
   "outputs": [],
   "source": [
    "from pyspark.sql import functions as f"
   ]
  },
  {
   "cell_type": "code",
   "execution_count": 21,
   "metadata": {},
   "outputs": [
    {
     "name": "stdout",
     "output_type": "stream",
     "text": [
      "+----------+-----------------------+\n",
      "|content_id|avg(answered_correctly)|\n",
      "+----------+-----------------------+\n",
      "|      7848|                    0.0|\n",
      "|      7849|                    0.0|\n",
      "|      3095|    0.05714285714285714|\n",
      "|     10062|      0.087248322147651|\n",
      "|     13038|    0.09090909090909091|\n",
      "|      7639|    0.11022727272727273|\n",
      "|     10924|    0.13150684931506848|\n",
      "|      3125|    0.13188976377952755|\n",
      "|      7374|    0.14285714285714285|\n",
      "|      9220|    0.15378356387306755|\n",
      "|     10095|    0.15384615384615385|\n",
      "|      7487|                0.15625|\n",
      "|     13481|     0.1590909090909091|\n",
      "|      8697|    0.16252390057361377|\n",
      "|     10239|     0.1628242074927954|\n",
      "|     13341|    0.16304347826086957|\n",
      "|      2063|    0.16394565589679186|\n",
      "|      6531|    0.16486902927580893|\n",
      "|     10901|    0.16494845360824742|\n",
      "|     10061|    0.16506410256410256|\n",
      "+----------+-----------------------+\n",
      "only showing top 20 rows\n",
      "\n",
      "CPU times: user 10.3 ms, sys: 2.02 ms, total: 12.3 ms\n",
      "Wall time: 15.3 s\n"
     ]
    }
   ],
   "source": [
    "%%time\n",
    "(\n",
    "riiid_df\n",
    "    .select('content_id', 'answered_correctly')\n",
    "    .filter(f.col('answered_correctly')!='-1')\n",
    "    .groupBy('content_id')\n",
    "    .mean('answered_correctly')\n",
    "    .orderBy('avg(answered_correctly)')\n",
    "    .show()\n",
    ")"
   ]
  },
  {
   "cell_type": "code",
   "execution_count": 22,
   "metadata": {},
   "outputs": [],
   "source": [
    "sc.stop()"
   ]
  }
 ],
 "metadata": {
  "kernelspec": {
   "display_name": "Python 3",
   "language": "python",
   "name": "python3"
  },
  "language_info": {
   "codemirror_mode": {
    "name": "ipython",
    "version": 3
   },
   "file_extension": ".py",
   "mimetype": "text/x-python",
   "name": "python",
   "nbconvert_exporter": "python",
   "pygments_lexer": "ipython3",
   "version": "3.7.4"
  }
 },
 "nbformat": 4,
 "nbformat_minor": 2
}
